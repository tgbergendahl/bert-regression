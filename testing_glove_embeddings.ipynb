{
 "cells": [
  {
   "cell_type": "code",
   "execution_count": 43,
   "metadata": {},
   "outputs": [],
   "source": [
    "import torch\n",
    "import pandas as pd\n",
    "import numpy as np"
   ]
  },
  {
   "cell_type": "code",
   "execution_count": 44,
   "metadata": {},
   "outputs": [],
   "source": [
    "if torch.cuda.is_available():\n",
    "    device = torch.device('cuda')\n",
    "else:\n",
    "    device = torch.device('cpu')"
   ]
  },
  {
   "cell_type": "code",
   "execution_count": 45,
   "metadata": {},
   "outputs": [
    {
     "name": "stdout",
     "output_type": "stream",
     "text": [
      "Read in 50000 values\n"
     ]
    },
    {
     "name": "stderr",
     "output_type": "stream",
     "text": [
      "/tmp/ipykernel_78356/1176866041.py:6: DtypeWarning: Columns (37,66) have mixed types. Specify dtype option on import or set low_memory=False.\n",
      "  df = pd.read_csv(full_path, sep=';', nrows=50000)\n"
     ]
    }
   ],
   "source": [
    "# read data here\n",
    "directory = \"/home/tgbergendahl/research/NLP/data/archive/\"\n",
    "filename = \"airbnb-listings.csv\"\n",
    "full_path = directory + filename\n",
    "\n",
    "df = pd.read_csv(full_path, sep=';', nrows=50000)\n",
    "x = len(df)\n",
    "print(f\"Read in {x} values\")"
   ]
  },
  {
   "cell_type": "code",
   "execution_count": 46,
   "metadata": {},
   "outputs": [
    {
     "name": "stdout",
     "output_type": "stream",
     "text": [
      "Filtering out price=0 results in 49115 values\n",
      "Filtering out N/A Summaries results in 47527 values\n"
     ]
    }
   ],
   "source": [
    "df = df[['ID', 'Summary', 'Price']]\n",
    "df = df[df['Price']>0]\n",
    "x = len(df)\n",
    "print(f\"Filtering out price=0 results in {x} values\")\n",
    "df = df[pd.notna(df['Summary'])]\n",
    "x = len(df)\n",
    "print(f\"Filtering out N/A Summaries results in {x} values\")"
   ]
  },
  {
   "cell_type": "code",
   "execution_count": 47,
   "metadata": {},
   "outputs": [
    {
     "data": {
      "text/html": [
       "<div>\n",
       "<style scoped>\n",
       "    .dataframe tbody tr th:only-of-type {\n",
       "        vertical-align: middle;\n",
       "    }\n",
       "\n",
       "    .dataframe tbody tr th {\n",
       "        vertical-align: top;\n",
       "    }\n",
       "\n",
       "    .dataframe thead th {\n",
       "        text-align: right;\n",
       "    }\n",
       "</style>\n",
       "<table border=\"1\" class=\"dataframe\">\n",
       "  <thead>\n",
       "    <tr style=\"text-align: right;\">\n",
       "      <th></th>\n",
       "      <th>ID</th>\n",
       "      <th>Summary</th>\n",
       "      <th>Price</th>\n",
       "    </tr>\n",
       "  </thead>\n",
       "  <tbody>\n",
       "    <tr>\n",
       "      <th>0</th>\n",
       "      <td>4008728</td>\n",
       "      <td>‪This luxurious apartment is situated in the c...</td>\n",
       "      <td>600.0</td>\n",
       "    </tr>\n",
       "    <tr>\n",
       "      <th>1</th>\n",
       "      <td>7778612</td>\n",
       "      <td>Beautiful, large (105m2, 2 floors) and quiet a...</td>\n",
       "      <td>175.0</td>\n",
       "    </tr>\n",
       "    <tr>\n",
       "      <th>2</th>\n",
       "      <td>8264596</td>\n",
       "      <td>This central located apartment will make you f...</td>\n",
       "      <td>125.0</td>\n",
       "    </tr>\n",
       "    <tr>\n",
       "      <th>3</th>\n",
       "      <td>2180729</td>\n",
       "      <td>Living like an Amsterdam resident in this ligh...</td>\n",
       "      <td>130.0</td>\n",
       "    </tr>\n",
       "    <tr>\n",
       "      <th>4</th>\n",
       "      <td>14463171</td>\n",
       "      <td>Studio Apartment Centre Amsterdam Perfect stud...</td>\n",
       "      <td>80.0</td>\n",
       "    </tr>\n",
       "  </tbody>\n",
       "</table>\n",
       "</div>"
      ],
      "text/plain": [
       "         ID                                            Summary  Price\n",
       "0   4008728  ‪This luxurious apartment is situated in the c...  600.0\n",
       "1   7778612  Beautiful, large (105m2, 2 floors) and quiet a...  175.0\n",
       "2   8264596  This central located apartment will make you f...  125.0\n",
       "3   2180729  Living like an Amsterdam resident in this ligh...  130.0\n",
       "4  14463171  Studio Apartment Centre Amsterdam Perfect stud...   80.0"
      ]
     },
     "execution_count": 47,
     "metadata": {},
     "output_type": "execute_result"
    }
   ],
   "source": [
    "df.head()"
   ]
  },
  {
   "cell_type": "code",
   "execution_count": 48,
   "metadata": {},
   "outputs": [
    {
     "data": {
      "text/plain": [
       "281.05396932270077"
      ]
     },
     "execution_count": 48,
     "metadata": {},
     "output_type": "execute_result"
    }
   ],
   "source": [
    "mean_len = df['Summary'].apply(len).mean()\n",
    "\n",
    "mean_len"
   ]
  },
  {
   "cell_type": "code",
   "execution_count": 49,
   "metadata": {},
   "outputs": [],
   "source": [
    "# load embeddings\n",
    "\n",
    "embeddings_dict = {}\n",
    "\n",
    "with open(\"/home/tgbergendahl/research/NLP/word-embeddings/glove.6B/glove.6B.50d.txt\", 'r', encoding=\"utf-8\") as f:\n",
    "    for line in f:\n",
    "        values = line.split()\n",
    "        word = values[0]\n",
    "        vector = np.asarray(values[1:], \"float32\")\n",
    "        embeddings_dict[word] = vector"
   ]
  },
  {
   "cell_type": "code",
   "execution_count": 50,
   "metadata": {},
   "outputs": [
    {
     "data": {
      "text/plain": [
       "['king', 'prince', 'queen', 'uncle', 'ii']"
      ]
     },
     "execution_count": 50,
     "metadata": {},
     "output_type": "execute_result"
    }
   ],
   "source": [
    "# testing embeddings\n",
    "from scipy import spatial\n",
    "\n",
    "def find_closest_embeddings(embedding):\n",
    "    return sorted(embeddings_dict.keys(), key=lambda word: spatial.distance.euclidean(embeddings_dict[word], embedding))\n",
    "\n",
    "find_closest_embeddings(embeddings_dict[\"king\"])[:5]\n"
   ]
  },
  {
   "cell_type": "code",
   "execution_count": 51,
   "metadata": {},
   "outputs": [],
   "source": [
    "def to_embedding(word):\n",
    "    if word in embeddings_dict:\n",
    "        return embeddings_dict[word]\n",
    "    else:\n",
    "        return None"
   ]
  },
  {
   "cell_type": "code",
   "execution_count": 52,
   "metadata": {},
   "outputs": [],
   "source": [
    "def average_embedding(note_text):\n",
    "    words = note_text.split(' ')\n",
    "    lower_stripped = [word.strip().lower() for word in words]\n",
    "    # print(lower_stripped)\n",
    "    word_embeddings = [to_embedding(word) for word in lower_stripped if to_embedding(word) is not None]\n",
    "    # print(\"Number of word embeddings found: \" + str(len(word_embeddings)))\n",
    "    return np.mean(word_embeddings, axis=0)"
   ]
  },
  {
   "cell_type": "code",
   "execution_count": 53,
   "metadata": {},
   "outputs": [
    {
     "name": "stderr",
     "output_type": "stream",
     "text": [
      "/home/tgbergendahl/miniconda3/envs/NLP/lib/python3.12/site-packages/numpy/core/fromnumeric.py:3504: RuntimeWarning: Mean of empty slice.\n",
      "  return _methods._mean(a, axis=axis, dtype=dtype,\n",
      "/home/tgbergendahl/miniconda3/envs/NLP/lib/python3.12/site-packages/numpy/core/_methods.py:129: RuntimeWarning: invalid value encountered in scalar divide\n",
      "  ret = ret.dtype.type(ret / rcount)\n"
     ]
    }
   ],
   "source": [
    "df['Embeddings']=df['Summary'].apply(average_embedding)"
   ]
  },
  {
   "cell_type": "code",
   "execution_count": 54,
   "metadata": {},
   "outputs": [
    {
     "name": "stdout",
     "output_type": "stream",
     "text": [
      "Length before dropping = 47527\n",
      "Length after dropping = 47312\n"
     ]
    }
   ],
   "source": [
    "print(f\"Length before dropping = {len(df)}\")\n",
    "df = df.dropna()\n",
    "print(f\"Length after dropping = {len(df)}\")"
   ]
  },
  {
   "cell_type": "code",
   "execution_count": 55,
   "metadata": {},
   "outputs": [
    {
     "data": {
      "text/html": [
       "<div>\n",
       "<style scoped>\n",
       "    .dataframe tbody tr th:only-of-type {\n",
       "        vertical-align: middle;\n",
       "    }\n",
       "\n",
       "    .dataframe tbody tr th {\n",
       "        vertical-align: top;\n",
       "    }\n",
       "\n",
       "    .dataframe thead th {\n",
       "        text-align: right;\n",
       "    }\n",
       "</style>\n",
       "<table border=\"1\" class=\"dataframe\">\n",
       "  <thead>\n",
       "    <tr style=\"text-align: right;\">\n",
       "      <th></th>\n",
       "      <th>ID</th>\n",
       "      <th>Summary</th>\n",
       "      <th>Price</th>\n",
       "      <th>Embeddings</th>\n",
       "    </tr>\n",
       "  </thead>\n",
       "  <tbody>\n",
       "    <tr>\n",
       "      <th>0</th>\n",
       "      <td>4008728</td>\n",
       "      <td>‪This luxurious apartment is situated in the c...</td>\n",
       "      <td>600.0</td>\n",
       "      <td>[0.38274357, 0.4258689, -0.16039725, 0.0287610...</td>\n",
       "    </tr>\n",
       "    <tr>\n",
       "      <th>1</th>\n",
       "      <td>7778612</td>\n",
       "      <td>Beautiful, large (105m2, 2 floors) and quiet a...</td>\n",
       "      <td>175.0</td>\n",
       "      <td>[0.41330466, 0.30931005, -0.000840808, 0.01371...</td>\n",
       "    </tr>\n",
       "    <tr>\n",
       "      <th>2</th>\n",
       "      <td>8264596</td>\n",
       "      <td>This central located apartment will make you f...</td>\n",
       "      <td>125.0</td>\n",
       "      <td>[0.49062666, 0.3795466, 0.063830316, -0.055309...</td>\n",
       "    </tr>\n",
       "    <tr>\n",
       "      <th>3</th>\n",
       "      <td>2180729</td>\n",
       "      <td>Living like an Amsterdam resident in this ligh...</td>\n",
       "      <td>130.0</td>\n",
       "      <td>[0.4084269, 0.41357902, -0.1686621, -0.0720989...</td>\n",
       "    </tr>\n",
       "    <tr>\n",
       "      <th>4</th>\n",
       "      <td>14463171</td>\n",
       "      <td>Studio Apartment Centre Amsterdam Perfect stud...</td>\n",
       "      <td>80.0</td>\n",
       "      <td>[0.40915027, 0.3366374, -0.048056837, -0.02218...</td>\n",
       "    </tr>\n",
       "  </tbody>\n",
       "</table>\n",
       "</div>"
      ],
      "text/plain": [
       "         ID                                            Summary  Price  \\\n",
       "0   4008728  ‪This luxurious apartment is situated in the c...  600.0   \n",
       "1   7778612  Beautiful, large (105m2, 2 floors) and quiet a...  175.0   \n",
       "2   8264596  This central located apartment will make you f...  125.0   \n",
       "3   2180729  Living like an Amsterdam resident in this ligh...  130.0   \n",
       "4  14463171  Studio Apartment Centre Amsterdam Perfect stud...   80.0   \n",
       "\n",
       "                                          Embeddings  \n",
       "0  [0.38274357, 0.4258689, -0.16039725, 0.0287610...  \n",
       "1  [0.41330466, 0.30931005, -0.000840808, 0.01371...  \n",
       "2  [0.49062666, 0.3795466, 0.063830316, -0.055309...  \n",
       "3  [0.4084269, 0.41357902, -0.1686621, -0.0720989...  \n",
       "4  [0.40915027, 0.3366374, -0.048056837, -0.02218...  "
      ]
     },
     "execution_count": 55,
     "metadata": {},
     "output_type": "execute_result"
    }
   ],
   "source": [
    "df.head()"
   ]
  },
  {
   "cell_type": "code",
   "execution_count": 56,
   "metadata": {},
   "outputs": [
    {
     "data": {
      "text/html": [
       "<div>\n",
       "<style scoped>\n",
       "    .dataframe tbody tr th:only-of-type {\n",
       "        vertical-align: middle;\n",
       "    }\n",
       "\n",
       "    .dataframe tbody tr th {\n",
       "        vertical-align: top;\n",
       "    }\n",
       "\n",
       "    .dataframe thead th {\n",
       "        text-align: right;\n",
       "    }\n",
       "</style>\n",
       "<table border=\"1\" class=\"dataframe\">\n",
       "  <thead>\n",
       "    <tr style=\"text-align: right;\">\n",
       "      <th></th>\n",
       "      <th>Price</th>\n",
       "      <th>x_8</th>\n",
       "      <th>x_35</th>\n",
       "      <th>x_36</th>\n",
       "      <th>x_40</th>\n",
       "      <th>x_2</th>\n",
       "      <th>x_14</th>\n",
       "      <th>x_48</th>\n",
       "      <th>x_15</th>\n",
       "      <th>x_17</th>\n",
       "      <th>...</th>\n",
       "      <th>x_45</th>\n",
       "      <th>x_49</th>\n",
       "      <th>x_37</th>\n",
       "      <th>x_5</th>\n",
       "      <th>x_1</th>\n",
       "      <th>x_39</th>\n",
       "      <th>x_42</th>\n",
       "      <th>x_29</th>\n",
       "      <th>x_23</th>\n",
       "      <th>x_16</th>\n",
       "    </tr>\n",
       "  </thead>\n",
       "  <tbody>\n",
       "    <tr>\n",
       "      <th>0</th>\n",
       "      <td>600.0</td>\n",
       "      <td>0.382744</td>\n",
       "      <td>0.425869</td>\n",
       "      <td>-0.160397</td>\n",
       "      <td>0.028761</td>\n",
       "      <td>0.260482</td>\n",
       "      <td>0.072364</td>\n",
       "      <td>-0.398778</td>\n",
       "      <td>-0.307750</td>\n",
       "      <td>0.022348</td>\n",
       "      <td>...</td>\n",
       "      <td>0.020404</td>\n",
       "      <td>0.095560</td>\n",
       "      <td>0.127824</td>\n",
       "      <td>0.120138</td>\n",
       "      <td>-0.275871</td>\n",
       "      <td>0.119027</td>\n",
       "      <td>-0.009736</td>\n",
       "      <td>-0.496168</td>\n",
       "      <td>0.024827</td>\n",
       "      <td>-0.187749</td>\n",
       "    </tr>\n",
       "    <tr>\n",
       "      <th>1</th>\n",
       "      <td>175.0</td>\n",
       "      <td>0.413305</td>\n",
       "      <td>0.309310</td>\n",
       "      <td>-0.000841</td>\n",
       "      <td>0.013715</td>\n",
       "      <td>0.390502</td>\n",
       "      <td>0.198299</td>\n",
       "      <td>-0.442315</td>\n",
       "      <td>-0.214440</td>\n",
       "      <td>-0.351980</td>\n",
       "      <td>...</td>\n",
       "      <td>-0.141630</td>\n",
       "      <td>0.134946</td>\n",
       "      <td>0.239726</td>\n",
       "      <td>-0.163147</td>\n",
       "      <td>-0.191875</td>\n",
       "      <td>0.252649</td>\n",
       "      <td>-0.242484</td>\n",
       "      <td>-0.429803</td>\n",
       "      <td>0.062846</td>\n",
       "      <td>-0.030371</td>\n",
       "    </tr>\n",
       "    <tr>\n",
       "      <th>2</th>\n",
       "      <td>125.0</td>\n",
       "      <td>0.490627</td>\n",
       "      <td>0.379547</td>\n",
       "      <td>0.063830</td>\n",
       "      <td>-0.055309</td>\n",
       "      <td>0.316344</td>\n",
       "      <td>-0.111840</td>\n",
       "      <td>-0.490916</td>\n",
       "      <td>-0.197632</td>\n",
       "      <td>-0.149993</td>\n",
       "      <td>...</td>\n",
       "      <td>0.006888</td>\n",
       "      <td>0.011265</td>\n",
       "      <td>0.093517</td>\n",
       "      <td>0.148092</td>\n",
       "      <td>-0.253133</td>\n",
       "      <td>0.133435</td>\n",
       "      <td>-0.205685</td>\n",
       "      <td>-0.383044</td>\n",
       "      <td>0.040716</td>\n",
       "      <td>-0.125421</td>\n",
       "    </tr>\n",
       "    <tr>\n",
       "      <th>3</th>\n",
       "      <td>130.0</td>\n",
       "      <td>0.408427</td>\n",
       "      <td>0.413579</td>\n",
       "      <td>-0.168662</td>\n",
       "      <td>-0.072099</td>\n",
       "      <td>0.461521</td>\n",
       "      <td>0.009454</td>\n",
       "      <td>-0.512459</td>\n",
       "      <td>-0.227946</td>\n",
       "      <td>-0.128383</td>\n",
       "      <td>...</td>\n",
       "      <td>-0.030333</td>\n",
       "      <td>0.109661</td>\n",
       "      <td>0.079610</td>\n",
       "      <td>0.067164</td>\n",
       "      <td>-0.290861</td>\n",
       "      <td>0.230022</td>\n",
       "      <td>-0.159572</td>\n",
       "      <td>-0.523730</td>\n",
       "      <td>0.124678</td>\n",
       "      <td>-0.077030</td>\n",
       "    </tr>\n",
       "    <tr>\n",
       "      <th>4</th>\n",
       "      <td>80.0</td>\n",
       "      <td>0.409150</td>\n",
       "      <td>0.336637</td>\n",
       "      <td>-0.048057</td>\n",
       "      <td>-0.022188</td>\n",
       "      <td>0.278440</td>\n",
       "      <td>-0.061095</td>\n",
       "      <td>-0.424170</td>\n",
       "      <td>-0.259446</td>\n",
       "      <td>0.001860</td>\n",
       "      <td>...</td>\n",
       "      <td>0.080895</td>\n",
       "      <td>0.046259</td>\n",
       "      <td>0.001392</td>\n",
       "      <td>0.045865</td>\n",
       "      <td>-0.124832</td>\n",
       "      <td>0.233912</td>\n",
       "      <td>-0.031643</td>\n",
       "      <td>-0.539506</td>\n",
       "      <td>-0.033314</td>\n",
       "      <td>-0.202694</td>\n",
       "    </tr>\n",
       "  </tbody>\n",
       "</table>\n",
       "<p>5 rows × 51 columns</p>\n",
       "</div>"
      ],
      "text/plain": [
       "   Price       x_8      x_35      x_36      x_40       x_2      x_14  \\\n",
       "0  600.0  0.382744  0.425869 -0.160397  0.028761  0.260482  0.072364   \n",
       "1  175.0  0.413305  0.309310 -0.000841  0.013715  0.390502  0.198299   \n",
       "2  125.0  0.490627  0.379547  0.063830 -0.055309  0.316344 -0.111840   \n",
       "3  130.0  0.408427  0.413579 -0.168662 -0.072099  0.461521  0.009454   \n",
       "4   80.0  0.409150  0.336637 -0.048057 -0.022188  0.278440 -0.061095   \n",
       "\n",
       "       x_48      x_15      x_17  ...      x_45      x_49      x_37       x_5  \\\n",
       "0 -0.398778 -0.307750  0.022348  ...  0.020404  0.095560  0.127824  0.120138   \n",
       "1 -0.442315 -0.214440 -0.351980  ... -0.141630  0.134946  0.239726 -0.163147   \n",
       "2 -0.490916 -0.197632 -0.149993  ...  0.006888  0.011265  0.093517  0.148092   \n",
       "3 -0.512459 -0.227946 -0.128383  ... -0.030333  0.109661  0.079610  0.067164   \n",
       "4 -0.424170 -0.259446  0.001860  ...  0.080895  0.046259  0.001392  0.045865   \n",
       "\n",
       "        x_1      x_39      x_42      x_29      x_23      x_16  \n",
       "0 -0.275871  0.119027 -0.009736 -0.496168  0.024827 -0.187749  \n",
       "1 -0.191875  0.252649 -0.242484 -0.429803  0.062846 -0.030371  \n",
       "2 -0.253133  0.133435 -0.205685 -0.383044  0.040716 -0.125421  \n",
       "3 -0.290861  0.230022 -0.159572 -0.523730  0.124678 -0.077030  \n",
       "4 -0.124832  0.233912 -0.031643 -0.539506 -0.033314 -0.202694  \n",
       "\n",
       "[5 rows x 51 columns]"
      ]
     },
     "execution_count": 56,
     "metadata": {},
     "output_type": "execute_result"
    }
   ],
   "source": [
    "expanded_embeddings = df['Embeddings'].apply(pd.Series)\n",
    "expanded_embeddings.columns = {f'x_{i+1}' for i in range(expanded_embeddings.shape[1])}\n",
    "cleaned_df = pd.concat([df['Price'], expanded_embeddings], axis=1)\n",
    "\n",
    "cleaned_df.head()"
   ]
  },
  {
   "cell_type": "code",
   "execution_count": 57,
   "metadata": {},
   "outputs": [],
   "source": [
    "from sklearn.neural_network import MLPRegressor\n",
    "from sklearn.model_selection import train_test_split\n",
    "\n",
    "x_temp = df['Embeddings']\n",
    "x = [np.array(embedding) for embedding in x_temp]\n",
    "y = df['Price']\n",
    "\n",
    "x_train, x_test, y_train, y_test = train_test_split(x, y, random_state=42)"
   ]
  },
  {
   "cell_type": "code",
   "execution_count": 58,
   "metadata": {},
   "outputs": [
    {
     "name": "stderr",
     "output_type": "stream",
     "text": [
      "/home/tgbergendahl/miniconda3/envs/NLP/lib/python3.12/site-packages/sklearn/neural_network/_multilayer_perceptron.py:690: ConvergenceWarning: Stochastic Optimizer: Maximum iterations (500) reached and the optimization hasn't converged yet.\n",
      "  warnings.warn(\n"
     ]
    }
   ],
   "source": [
    "regr = MLPRegressor(random_state=42, max_iter=500).fit(x_train, y_train)"
   ]
  },
  {
   "cell_type": "code",
   "execution_count": 59,
   "metadata": {},
   "outputs": [
    {
     "data": {
      "text/plain": [
       "0.149443301187273"
      ]
     },
     "execution_count": 59,
     "metadata": {},
     "output_type": "execute_result"
    }
   ],
   "source": [
    "regr.score(x_test, y_test)"
   ]
  },
  {
   "cell_type": "code",
   "execution_count": 60,
   "metadata": {},
   "outputs": [
    {
     "data": {
      "text/html": [
       "<div>\n",
       "<style scoped>\n",
       "    .dataframe tbody tr th:only-of-type {\n",
       "        vertical-align: middle;\n",
       "    }\n",
       "\n",
       "    .dataframe tbody tr th {\n",
       "        vertical-align: top;\n",
       "    }\n",
       "\n",
       "    .dataframe thead th {\n",
       "        text-align: right;\n",
       "    }\n",
       "</style>\n",
       "<table border=\"1\" class=\"dataframe\">\n",
       "  <thead>\n",
       "    <tr style=\"text-align: right;\">\n",
       "      <th></th>\n",
       "      <th>Predictions</th>\n",
       "      <th>Ground Truth</th>\n",
       "    </tr>\n",
       "  </thead>\n",
       "  <tbody>\n",
       "    <tr>\n",
       "      <th>22740</th>\n",
       "      <td>158.091873</td>\n",
       "      <td>250.0</td>\n",
       "    </tr>\n",
       "    <tr>\n",
       "      <th>49054</th>\n",
       "      <td>198.964108</td>\n",
       "      <td>137.0</td>\n",
       "    </tr>\n",
       "    <tr>\n",
       "      <th>26967</th>\n",
       "      <td>185.621518</td>\n",
       "      <td>191.0</td>\n",
       "    </tr>\n",
       "    <tr>\n",
       "      <th>24838</th>\n",
       "      <td>181.340327</td>\n",
       "      <td>25.0</td>\n",
       "    </tr>\n",
       "    <tr>\n",
       "      <th>31730</th>\n",
       "      <td>118.441470</td>\n",
       "      <td>42.0</td>\n",
       "    </tr>\n",
       "    <tr>\n",
       "      <th>46777</th>\n",
       "      <td>177.008950</td>\n",
       "      <td>94.0</td>\n",
       "    </tr>\n",
       "    <tr>\n",
       "      <th>47246</th>\n",
       "      <td>126.728921</td>\n",
       "      <td>50.0</td>\n",
       "    </tr>\n",
       "    <tr>\n",
       "      <th>31060</th>\n",
       "      <td>116.749581</td>\n",
       "      <td>94.0</td>\n",
       "    </tr>\n",
       "    <tr>\n",
       "      <th>49057</th>\n",
       "      <td>152.106494</td>\n",
       "      <td>255.0</td>\n",
       "    </tr>\n",
       "    <tr>\n",
       "      <th>25840</th>\n",
       "      <td>117.113846</td>\n",
       "      <td>75.0</td>\n",
       "    </tr>\n",
       "    <tr>\n",
       "      <th>1697</th>\n",
       "      <td>89.178017</td>\n",
       "      <td>25.0</td>\n",
       "    </tr>\n",
       "    <tr>\n",
       "      <th>16090</th>\n",
       "      <td>228.807768</td>\n",
       "      <td>190.0</td>\n",
       "    </tr>\n",
       "    <tr>\n",
       "      <th>27244</th>\n",
       "      <td>209.325883</td>\n",
       "      <td>125.0</td>\n",
       "    </tr>\n",
       "    <tr>\n",
       "      <th>25519</th>\n",
       "      <td>37.214577</td>\n",
       "      <td>70.0</td>\n",
       "    </tr>\n",
       "    <tr>\n",
       "      <th>23255</th>\n",
       "      <td>161.092979</td>\n",
       "      <td>90.0</td>\n",
       "    </tr>\n",
       "    <tr>\n",
       "      <th>1644</th>\n",
       "      <td>84.859553</td>\n",
       "      <td>34.0</td>\n",
       "    </tr>\n",
       "    <tr>\n",
       "      <th>5739</th>\n",
       "      <td>68.427655</td>\n",
       "      <td>19.0</td>\n",
       "    </tr>\n",
       "    <tr>\n",
       "      <th>14755</th>\n",
       "      <td>109.956198</td>\n",
       "      <td>34.0</td>\n",
       "    </tr>\n",
       "    <tr>\n",
       "      <th>17681</th>\n",
       "      <td>243.486771</td>\n",
       "      <td>803.0</td>\n",
       "    </tr>\n",
       "    <tr>\n",
       "      <th>35678</th>\n",
       "      <td>157.438530</td>\n",
       "      <td>106.0</td>\n",
       "    </tr>\n",
       "  </tbody>\n",
       "</table>\n",
       "</div>"
      ],
      "text/plain": [
       "       Predictions  Ground Truth\n",
       "22740   158.091873         250.0\n",
       "49054   198.964108         137.0\n",
       "26967   185.621518         191.0\n",
       "24838   181.340327          25.0\n",
       "31730   118.441470          42.0\n",
       "46777   177.008950          94.0\n",
       "47246   126.728921          50.0\n",
       "31060   116.749581          94.0\n",
       "49057   152.106494         255.0\n",
       "25840   117.113846          75.0\n",
       "1697     89.178017          25.0\n",
       "16090   228.807768         190.0\n",
       "27244   209.325883         125.0\n",
       "25519    37.214577          70.0\n",
       "23255   161.092979          90.0\n",
       "1644     84.859553          34.0\n",
       "5739     68.427655          19.0\n",
       "14755   109.956198          34.0\n",
       "17681   243.486771         803.0\n",
       "35678   157.438530         106.0"
      ]
     },
     "execution_count": 60,
     "metadata": {},
     "output_type": "execute_result"
    }
   ],
   "source": [
    "test_pred = regr.predict(x_test)\n",
    "\n",
    "res_df = pd.DataFrame({\n",
    "    'Predictions': test_pred,\n",
    "    'Ground Truth': y_test\n",
    "})\n",
    "\n",
    "res_df.head(20)"
   ]
  }
 ],
 "metadata": {
  "kernelspec": {
   "display_name": "NLP",
   "language": "python",
   "name": "python3"
  },
  "language_info": {
   "codemirror_mode": {
    "name": "ipython",
    "version": 3
   },
   "file_extension": ".py",
   "mimetype": "text/x-python",
   "name": "python",
   "nbconvert_exporter": "python",
   "pygments_lexer": "ipython3",
   "version": "3.12.7"
  }
 },
 "nbformat": 4,
 "nbformat_minor": 2
}
