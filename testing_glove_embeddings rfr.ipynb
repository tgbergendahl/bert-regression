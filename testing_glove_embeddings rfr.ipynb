{
 "cells": [
  {
   "cell_type": "code",
   "execution_count": 1,
   "metadata": {},
   "outputs": [],
   "source": [
    "import torch\n",
    "import pandas as pd\n",
    "import numpy as np"
   ]
  },
  {
   "cell_type": "code",
   "execution_count": 2,
   "metadata": {},
   "outputs": [],
   "source": [
    "if torch.cuda.is_available():\n",
    "    device = torch.device('cuda')\n",
    "else:\n",
    "    device = torch.device('cpu')"
   ]
  },
  {
   "cell_type": "code",
   "execution_count": 3,
   "metadata": {},
   "outputs": [
    {
     "name": "stderr",
     "output_type": "stream",
     "text": [
      "/var/folders/fm/tg2h9kb51zg6vym1k_4n9f_r0000gn/T/ipykernel_10968/1251833652.py:6: DtypeWarning: Columns (66,82) have mixed types. Specify dtype option on import or set low_memory=False.\n",
      "  df = pd.read_csv(full_path, sep=';', nrows=100000)\n"
     ]
    },
    {
     "name": "stdout",
     "output_type": "stream",
     "text": [
      "Read in 100000 values\n"
     ]
    }
   ],
   "source": [
    "# read data here\n",
    "directory = \"../data/archive/\"\n",
    "filename = \"airbnb-listings.csv\"\n",
    "full_path = directory + filename\n",
    "\n",
    "df = pd.read_csv(full_path, sep=';', nrows=100000)\n",
    "x = len(df)\n",
    "print(f\"Read in {x} values\")"
   ]
  },
  {
   "cell_type": "code",
   "execution_count": 4,
   "metadata": {},
   "outputs": [
    {
     "name": "stdout",
     "output_type": "stream",
     "text": [
      "Filtering out price=0 results in 98498 values\n",
      "Filtering out N/A Summaries results in 95235 values\n"
     ]
    }
   ],
   "source": [
    "df = df[['ID', 'Summary', 'Price']]\n",
    "df = df[df['Price']>0]\n",
    "x = len(df)\n",
    "print(f\"Filtering out price=0 results in {x} values\")\n",
    "df = df[pd.notna(df['Summary'])]\n",
    "x = len(df)\n",
    "print(f\"Filtering out N/A Summaries results in {x} values\")"
   ]
  },
  {
   "cell_type": "code",
   "execution_count": 5,
   "metadata": {},
   "outputs": [
    {
     "data": {
      "text/html": [
       "<div>\n",
       "<style scoped>\n",
       "    .dataframe tbody tr th:only-of-type {\n",
       "        vertical-align: middle;\n",
       "    }\n",
       "\n",
       "    .dataframe tbody tr th {\n",
       "        vertical-align: top;\n",
       "    }\n",
       "\n",
       "    .dataframe thead th {\n",
       "        text-align: right;\n",
       "    }\n",
       "</style>\n",
       "<table border=\"1\" class=\"dataframe\">\n",
       "  <thead>\n",
       "    <tr style=\"text-align: right;\">\n",
       "      <th></th>\n",
       "      <th>ID</th>\n",
       "      <th>Summary</th>\n",
       "      <th>Price</th>\n",
       "    </tr>\n",
       "  </thead>\n",
       "  <tbody>\n",
       "    <tr>\n",
       "      <th>0</th>\n",
       "      <td>4008728</td>\n",
       "      <td>‪This luxurious apartment is situated in the c...</td>\n",
       "      <td>600.0</td>\n",
       "    </tr>\n",
       "    <tr>\n",
       "      <th>1</th>\n",
       "      <td>7778612</td>\n",
       "      <td>Beautiful, large (105m2, 2 floors) and quiet a...</td>\n",
       "      <td>175.0</td>\n",
       "    </tr>\n",
       "    <tr>\n",
       "      <th>2</th>\n",
       "      <td>8264596</td>\n",
       "      <td>This central located apartment will make you f...</td>\n",
       "      <td>125.0</td>\n",
       "    </tr>\n",
       "    <tr>\n",
       "      <th>3</th>\n",
       "      <td>2180729</td>\n",
       "      <td>Living like an Amsterdam resident in this ligh...</td>\n",
       "      <td>130.0</td>\n",
       "    </tr>\n",
       "    <tr>\n",
       "      <th>4</th>\n",
       "      <td>14463171</td>\n",
       "      <td>Studio Apartment Centre Amsterdam Perfect stud...</td>\n",
       "      <td>80.0</td>\n",
       "    </tr>\n",
       "  </tbody>\n",
       "</table>\n",
       "</div>"
      ],
      "text/plain": [
       "         ID                                            Summary  Price\n",
       "0   4008728  ‪This luxurious apartment is situated in the c...  600.0\n",
       "1   7778612  Beautiful, large (105m2, 2 floors) and quiet a...  175.0\n",
       "2   8264596  This central located apartment will make you f...  125.0\n",
       "3   2180729  Living like an Amsterdam resident in this ligh...  130.0\n",
       "4  14463171  Studio Apartment Centre Amsterdam Perfect stud...   80.0"
      ]
     },
     "execution_count": 5,
     "metadata": {},
     "output_type": "execute_result"
    }
   ],
   "source": [
    "df.head()"
   ]
  },
  {
   "cell_type": "code",
   "execution_count": 6,
   "metadata": {},
   "outputs": [
    {
     "data": {
      "text/plain": [
       "280.74930435239145"
      ]
     },
     "execution_count": 6,
     "metadata": {},
     "output_type": "execute_result"
    }
   ],
   "source": [
    "mean_len = df['Summary'].apply(len).mean()\n",
    "\n",
    "mean_len"
   ]
  },
  {
   "cell_type": "code",
   "execution_count": 7,
   "metadata": {},
   "outputs": [],
   "source": [
    "# load embeddings\n",
    "\n",
    "embeddings_dict = {}\n",
    "\n",
    "with open(\"../glove.6B/glove.6B.50d.txt\", 'r', encoding=\"utf-8\") as f:\n",
    "    for line in f:\n",
    "        values = line.split()\n",
    "        word = values[0]\n",
    "        vector = np.asarray(values[1:], \"float32\")\n",
    "        embeddings_dict[word] = vector"
   ]
  },
  {
   "cell_type": "code",
   "execution_count": 8,
   "metadata": {},
   "outputs": [
    {
     "data": {
      "text/plain": [
       "['king', 'prince', 'queen', 'uncle', 'ii']"
      ]
     },
     "execution_count": 8,
     "metadata": {},
     "output_type": "execute_result"
    }
   ],
   "source": [
    "# testing embeddings\n",
    "from scipy import spatial\n",
    "\n",
    "def find_closest_embeddings(embedding):\n",
    "    return sorted(embeddings_dict.keys(), key=lambda word: spatial.distance.euclidean(embeddings_dict[word], embedding))\n",
    "\n",
    "find_closest_embeddings(embeddings_dict[\"king\"])[:5]\n"
   ]
  },
  {
   "cell_type": "code",
   "execution_count": 9,
   "metadata": {},
   "outputs": [],
   "source": [
    "def to_embedding(word):\n",
    "    if word in embeddings_dict:\n",
    "        return embeddings_dict[word]\n",
    "    else:\n",
    "        return None"
   ]
  },
  {
   "cell_type": "code",
   "execution_count": 10,
   "metadata": {},
   "outputs": [],
   "source": [
    "def average_embedding(note_text):\n",
    "    words = note_text.split(' ')\n",
    "    lower_stripped = [word.strip().lower() for word in words]\n",
    "    # print(lower_stripped)\n",
    "    word_embeddings = [to_embedding(word) for word in lower_stripped if to_embedding(word) is not None]\n",
    "    # print(\"Number of word embeddings found: \" + str(len(word_embeddings)))\n",
    "    return np.mean(word_embeddings, axis=0)"
   ]
  },
  {
   "cell_type": "code",
   "execution_count": 11,
   "metadata": {},
   "outputs": [
    {
     "name": "stderr",
     "output_type": "stream",
     "text": [
      "/Users/tgbergendahl/miniconda3/envs/NLP/lib/python3.12/site-packages/numpy/core/fromnumeric.py:3504: RuntimeWarning: Mean of empty slice.\n",
      "  return _methods._mean(a, axis=axis, dtype=dtype,\n",
      "/Users/tgbergendahl/miniconda3/envs/NLP/lib/python3.12/site-packages/numpy/core/_methods.py:129: RuntimeWarning: invalid value encountered in scalar divide\n",
      "  ret = ret.dtype.type(ret / rcount)\n"
     ]
    }
   ],
   "source": [
    "df['Embeddings']=df['Summary'].apply(average_embedding)"
   ]
  },
  {
   "cell_type": "code",
   "execution_count": 12,
   "metadata": {},
   "outputs": [
    {
     "name": "stdout",
     "output_type": "stream",
     "text": [
      "Length before dropping = 95235\n",
      "Length after dropping = 94836\n"
     ]
    }
   ],
   "source": [
    "print(f\"Length before dropping = {len(df)}\")\n",
    "df = df.dropna()\n",
    "print(f\"Length after dropping = {len(df)}\")"
   ]
  },
  {
   "cell_type": "code",
   "execution_count": 13,
   "metadata": {},
   "outputs": [
    {
     "data": {
      "text/html": [
       "<div>\n",
       "<style scoped>\n",
       "    .dataframe tbody tr th:only-of-type {\n",
       "        vertical-align: middle;\n",
       "    }\n",
       "\n",
       "    .dataframe tbody tr th {\n",
       "        vertical-align: top;\n",
       "    }\n",
       "\n",
       "    .dataframe thead th {\n",
       "        text-align: right;\n",
       "    }\n",
       "</style>\n",
       "<table border=\"1\" class=\"dataframe\">\n",
       "  <thead>\n",
       "    <tr style=\"text-align: right;\">\n",
       "      <th></th>\n",
       "      <th>ID</th>\n",
       "      <th>Summary</th>\n",
       "      <th>Price</th>\n",
       "      <th>Embeddings</th>\n",
       "    </tr>\n",
       "  </thead>\n",
       "  <tbody>\n",
       "    <tr>\n",
       "      <th>0</th>\n",
       "      <td>4008728</td>\n",
       "      <td>‪This luxurious apartment is situated in the c...</td>\n",
       "      <td>600.0</td>\n",
       "      <td>[0.38274357, 0.4258689, -0.16039725, 0.0287610...</td>\n",
       "    </tr>\n",
       "    <tr>\n",
       "      <th>1</th>\n",
       "      <td>7778612</td>\n",
       "      <td>Beautiful, large (105m2, 2 floors) and quiet a...</td>\n",
       "      <td>175.0</td>\n",
       "      <td>[0.41330466, 0.30931005, -0.000840808, 0.01371...</td>\n",
       "    </tr>\n",
       "    <tr>\n",
       "      <th>2</th>\n",
       "      <td>8264596</td>\n",
       "      <td>This central located apartment will make you f...</td>\n",
       "      <td>125.0</td>\n",
       "      <td>[0.49062666, 0.3795466, 0.063830316, -0.055309...</td>\n",
       "    </tr>\n",
       "    <tr>\n",
       "      <th>3</th>\n",
       "      <td>2180729</td>\n",
       "      <td>Living like an Amsterdam resident in this ligh...</td>\n",
       "      <td>130.0</td>\n",
       "      <td>[0.4084269, 0.41357902, -0.1686621, -0.0720989...</td>\n",
       "    </tr>\n",
       "    <tr>\n",
       "      <th>4</th>\n",
       "      <td>14463171</td>\n",
       "      <td>Studio Apartment Centre Amsterdam Perfect stud...</td>\n",
       "      <td>80.0</td>\n",
       "      <td>[0.40915027, 0.3366374, -0.048056837, -0.02218...</td>\n",
       "    </tr>\n",
       "  </tbody>\n",
       "</table>\n",
       "</div>"
      ],
      "text/plain": [
       "         ID                                            Summary  Price  \\\n",
       "0   4008728  ‪This luxurious apartment is situated in the c...  600.0   \n",
       "1   7778612  Beautiful, large (105m2, 2 floors) and quiet a...  175.0   \n",
       "2   8264596  This central located apartment will make you f...  125.0   \n",
       "3   2180729  Living like an Amsterdam resident in this ligh...  130.0   \n",
       "4  14463171  Studio Apartment Centre Amsterdam Perfect stud...   80.0   \n",
       "\n",
       "                                          Embeddings  \n",
       "0  [0.38274357, 0.4258689, -0.16039725, 0.0287610...  \n",
       "1  [0.41330466, 0.30931005, -0.000840808, 0.01371...  \n",
       "2  [0.49062666, 0.3795466, 0.063830316, -0.055309...  \n",
       "3  [0.4084269, 0.41357902, -0.1686621, -0.0720989...  \n",
       "4  [0.40915027, 0.3366374, -0.048056837, -0.02218...  "
      ]
     },
     "execution_count": 13,
     "metadata": {},
     "output_type": "execute_result"
    }
   ],
   "source": [
    "df.head()"
   ]
  },
  {
   "cell_type": "code",
   "execution_count": 14,
   "metadata": {},
   "outputs": [
    {
     "data": {
      "text/html": [
       "<div>\n",
       "<style scoped>\n",
       "    .dataframe tbody tr th:only-of-type {\n",
       "        vertical-align: middle;\n",
       "    }\n",
       "\n",
       "    .dataframe tbody tr th {\n",
       "        vertical-align: top;\n",
       "    }\n",
       "\n",
       "    .dataframe thead th {\n",
       "        text-align: right;\n",
       "    }\n",
       "</style>\n",
       "<table border=\"1\" class=\"dataframe\">\n",
       "  <thead>\n",
       "    <tr style=\"text-align: right;\">\n",
       "      <th></th>\n",
       "      <th>Price</th>\n",
       "      <th>x_27</th>\n",
       "      <th>x_25</th>\n",
       "      <th>x_4</th>\n",
       "      <th>x_50</th>\n",
       "      <th>x_17</th>\n",
       "      <th>x_23</th>\n",
       "      <th>x_24</th>\n",
       "      <th>x_10</th>\n",
       "      <th>x_42</th>\n",
       "      <th>...</th>\n",
       "      <th>x_44</th>\n",
       "      <th>x_28</th>\n",
       "      <th>x_41</th>\n",
       "      <th>x_30</th>\n",
       "      <th>x_21</th>\n",
       "      <th>x_45</th>\n",
       "      <th>x_34</th>\n",
       "      <th>x_11</th>\n",
       "      <th>x_39</th>\n",
       "      <th>x_33</th>\n",
       "    </tr>\n",
       "  </thead>\n",
       "  <tbody>\n",
       "    <tr>\n",
       "      <th>0</th>\n",
       "      <td>600.0</td>\n",
       "      <td>0.382744</td>\n",
       "      <td>0.425869</td>\n",
       "      <td>-0.160397</td>\n",
       "      <td>0.028761</td>\n",
       "      <td>0.260482</td>\n",
       "      <td>0.072364</td>\n",
       "      <td>-0.398778</td>\n",
       "      <td>-0.307750</td>\n",
       "      <td>0.022348</td>\n",
       "      <td>...</td>\n",
       "      <td>0.020404</td>\n",
       "      <td>0.095560</td>\n",
       "      <td>0.127824</td>\n",
       "      <td>0.120138</td>\n",
       "      <td>-0.275871</td>\n",
       "      <td>0.119027</td>\n",
       "      <td>-0.009736</td>\n",
       "      <td>-0.496168</td>\n",
       "      <td>0.024827</td>\n",
       "      <td>-0.187749</td>\n",
       "    </tr>\n",
       "    <tr>\n",
       "      <th>1</th>\n",
       "      <td>175.0</td>\n",
       "      <td>0.413305</td>\n",
       "      <td>0.309310</td>\n",
       "      <td>-0.000841</td>\n",
       "      <td>0.013715</td>\n",
       "      <td>0.390502</td>\n",
       "      <td>0.198299</td>\n",
       "      <td>-0.442315</td>\n",
       "      <td>-0.214440</td>\n",
       "      <td>-0.351980</td>\n",
       "      <td>...</td>\n",
       "      <td>-0.141630</td>\n",
       "      <td>0.134946</td>\n",
       "      <td>0.239726</td>\n",
       "      <td>-0.163147</td>\n",
       "      <td>-0.191875</td>\n",
       "      <td>0.252649</td>\n",
       "      <td>-0.242484</td>\n",
       "      <td>-0.429803</td>\n",
       "      <td>0.062846</td>\n",
       "      <td>-0.030371</td>\n",
       "    </tr>\n",
       "    <tr>\n",
       "      <th>2</th>\n",
       "      <td>125.0</td>\n",
       "      <td>0.490627</td>\n",
       "      <td>0.379547</td>\n",
       "      <td>0.063830</td>\n",
       "      <td>-0.055309</td>\n",
       "      <td>0.316344</td>\n",
       "      <td>-0.111840</td>\n",
       "      <td>-0.490916</td>\n",
       "      <td>-0.197632</td>\n",
       "      <td>-0.149993</td>\n",
       "      <td>...</td>\n",
       "      <td>0.006888</td>\n",
       "      <td>0.011265</td>\n",
       "      <td>0.093517</td>\n",
       "      <td>0.148092</td>\n",
       "      <td>-0.253133</td>\n",
       "      <td>0.133435</td>\n",
       "      <td>-0.205685</td>\n",
       "      <td>-0.383044</td>\n",
       "      <td>0.040716</td>\n",
       "      <td>-0.125421</td>\n",
       "    </tr>\n",
       "    <tr>\n",
       "      <th>3</th>\n",
       "      <td>130.0</td>\n",
       "      <td>0.408427</td>\n",
       "      <td>0.413579</td>\n",
       "      <td>-0.168662</td>\n",
       "      <td>-0.072099</td>\n",
       "      <td>0.461521</td>\n",
       "      <td>0.009454</td>\n",
       "      <td>-0.512459</td>\n",
       "      <td>-0.227946</td>\n",
       "      <td>-0.128383</td>\n",
       "      <td>...</td>\n",
       "      <td>-0.030333</td>\n",
       "      <td>0.109661</td>\n",
       "      <td>0.079610</td>\n",
       "      <td>0.067164</td>\n",
       "      <td>-0.290861</td>\n",
       "      <td>0.230022</td>\n",
       "      <td>-0.159572</td>\n",
       "      <td>-0.523730</td>\n",
       "      <td>0.124678</td>\n",
       "      <td>-0.077030</td>\n",
       "    </tr>\n",
       "    <tr>\n",
       "      <th>4</th>\n",
       "      <td>80.0</td>\n",
       "      <td>0.409150</td>\n",
       "      <td>0.336637</td>\n",
       "      <td>-0.048057</td>\n",
       "      <td>-0.022188</td>\n",
       "      <td>0.278440</td>\n",
       "      <td>-0.061095</td>\n",
       "      <td>-0.424170</td>\n",
       "      <td>-0.259446</td>\n",
       "      <td>0.001860</td>\n",
       "      <td>...</td>\n",
       "      <td>0.080895</td>\n",
       "      <td>0.046259</td>\n",
       "      <td>0.001392</td>\n",
       "      <td>0.045865</td>\n",
       "      <td>-0.124832</td>\n",
       "      <td>0.233912</td>\n",
       "      <td>-0.031643</td>\n",
       "      <td>-0.539506</td>\n",
       "      <td>-0.033314</td>\n",
       "      <td>-0.202694</td>\n",
       "    </tr>\n",
       "  </tbody>\n",
       "</table>\n",
       "<p>5 rows × 51 columns</p>\n",
       "</div>"
      ],
      "text/plain": [
       "   Price      x_27      x_25       x_4      x_50      x_17      x_23  \\\n",
       "0  600.0  0.382744  0.425869 -0.160397  0.028761  0.260482  0.072364   \n",
       "1  175.0  0.413305  0.309310 -0.000841  0.013715  0.390502  0.198299   \n",
       "2  125.0  0.490627  0.379547  0.063830 -0.055309  0.316344 -0.111840   \n",
       "3  130.0  0.408427  0.413579 -0.168662 -0.072099  0.461521  0.009454   \n",
       "4   80.0  0.409150  0.336637 -0.048057 -0.022188  0.278440 -0.061095   \n",
       "\n",
       "       x_24      x_10      x_42  ...      x_44      x_28      x_41      x_30  \\\n",
       "0 -0.398778 -0.307750  0.022348  ...  0.020404  0.095560  0.127824  0.120138   \n",
       "1 -0.442315 -0.214440 -0.351980  ... -0.141630  0.134946  0.239726 -0.163147   \n",
       "2 -0.490916 -0.197632 -0.149993  ...  0.006888  0.011265  0.093517  0.148092   \n",
       "3 -0.512459 -0.227946 -0.128383  ... -0.030333  0.109661  0.079610  0.067164   \n",
       "4 -0.424170 -0.259446  0.001860  ...  0.080895  0.046259  0.001392  0.045865   \n",
       "\n",
       "       x_21      x_45      x_34      x_11      x_39      x_33  \n",
       "0 -0.275871  0.119027 -0.009736 -0.496168  0.024827 -0.187749  \n",
       "1 -0.191875  0.252649 -0.242484 -0.429803  0.062846 -0.030371  \n",
       "2 -0.253133  0.133435 -0.205685 -0.383044  0.040716 -0.125421  \n",
       "3 -0.290861  0.230022 -0.159572 -0.523730  0.124678 -0.077030  \n",
       "4 -0.124832  0.233912 -0.031643 -0.539506 -0.033314 -0.202694  \n",
       "\n",
       "[5 rows x 51 columns]"
      ]
     },
     "execution_count": 14,
     "metadata": {},
     "output_type": "execute_result"
    }
   ],
   "source": [
    "expanded_embeddings = df['Embeddings'].apply(pd.Series)\n",
    "expanded_embeddings.columns = {f'x_{i+1}' for i in range(expanded_embeddings.shape[1])}\n",
    "cleaned_df = pd.concat([df['Price'], expanded_embeddings], axis=1)\n",
    "\n",
    "cleaned_df.head()"
   ]
  },
  {
   "cell_type": "code",
   "execution_count": 15,
   "metadata": {},
   "outputs": [],
   "source": [
    "from sklearn.ensemble import RandomForestRegressor\n",
    "from sklearn.model_selection import train_test_split\n",
    "\n",
    "x_temp = df['Embeddings']\n",
    "x = [np.array(embedding) for embedding in x_temp]\n",
    "y = df['Price']\n",
    "\n",
    "x_train, x_test, y_train, y_test = train_test_split(x, y, random_state=42)"
   ]
  },
  {
   "cell_type": "code",
   "execution_count": 16,
   "metadata": {},
   "outputs": [],
   "source": [
    "regr = RandomForestRegressor(random_state=42).fit(x_train, y_train)"
   ]
  },
  {
   "cell_type": "code",
   "execution_count": 17,
   "metadata": {},
   "outputs": [
    {
     "data": {
      "text/plain": [
       "0.06078558259784539"
      ]
     },
     "execution_count": 17,
     "metadata": {},
     "output_type": "execute_result"
    }
   ],
   "source": [
    "regr.score(x_test, y_test)"
   ]
  },
  {
   "cell_type": "code",
   "execution_count": 18,
   "metadata": {},
   "outputs": [
    {
     "data": {
      "text/html": [
       "<div>\n",
       "<style scoped>\n",
       "    .dataframe tbody tr th:only-of-type {\n",
       "        vertical-align: middle;\n",
       "    }\n",
       "\n",
       "    .dataframe tbody tr th {\n",
       "        vertical-align: top;\n",
       "    }\n",
       "\n",
       "    .dataframe thead th {\n",
       "        text-align: right;\n",
       "    }\n",
       "</style>\n",
       "<table border=\"1\" class=\"dataframe\">\n",
       "  <thead>\n",
       "    <tr style=\"text-align: right;\">\n",
       "      <th></th>\n",
       "      <th>Predictions</th>\n",
       "      <th>Ground Truth</th>\n",
       "    </tr>\n",
       "  </thead>\n",
       "  <tbody>\n",
       "    <tr>\n",
       "      <th>92122</th>\n",
       "      <td>163.120000</td>\n",
       "      <td>64.0</td>\n",
       "    </tr>\n",
       "    <tr>\n",
       "      <th>16138</th>\n",
       "      <td>196.830000</td>\n",
       "      <td>70.0</td>\n",
       "    </tr>\n",
       "    <tr>\n",
       "      <th>42887</th>\n",
       "      <td>77.285060</td>\n",
       "      <td>80.0</td>\n",
       "    </tr>\n",
       "    <tr>\n",
       "      <th>1870</th>\n",
       "      <td>245.312866</td>\n",
       "      <td>250.0</td>\n",
       "    </tr>\n",
       "    <tr>\n",
       "      <th>11793</th>\n",
       "      <td>61.560000</td>\n",
       "      <td>50.0</td>\n",
       "    </tr>\n",
       "    <tr>\n",
       "      <th>22895</th>\n",
       "      <td>167.450000</td>\n",
       "      <td>100.0</td>\n",
       "    </tr>\n",
       "    <tr>\n",
       "      <th>11175</th>\n",
       "      <td>86.750000</td>\n",
       "      <td>123.0</td>\n",
       "    </tr>\n",
       "    <tr>\n",
       "      <th>8914</th>\n",
       "      <td>149.940000</td>\n",
       "      <td>352.0</td>\n",
       "    </tr>\n",
       "    <tr>\n",
       "      <th>46452</th>\n",
       "      <td>208.890000</td>\n",
       "      <td>120.0</td>\n",
       "    </tr>\n",
       "    <tr>\n",
       "      <th>63716</th>\n",
       "      <td>119.070000</td>\n",
       "      <td>75.0</td>\n",
       "    </tr>\n",
       "    <tr>\n",
       "      <th>31265</th>\n",
       "      <td>178.100000</td>\n",
       "      <td>175.0</td>\n",
       "    </tr>\n",
       "    <tr>\n",
       "      <th>69768</th>\n",
       "      <td>155.615000</td>\n",
       "      <td>185.0</td>\n",
       "    </tr>\n",
       "    <tr>\n",
       "      <th>96897</th>\n",
       "      <td>101.880000</td>\n",
       "      <td>800.0</td>\n",
       "    </tr>\n",
       "    <tr>\n",
       "      <th>94985</th>\n",
       "      <td>85.050000</td>\n",
       "      <td>60.0</td>\n",
       "    </tr>\n",
       "    <tr>\n",
       "      <th>21068</th>\n",
       "      <td>83.280000</td>\n",
       "      <td>40.0</td>\n",
       "    </tr>\n",
       "    <tr>\n",
       "      <th>27712</th>\n",
       "      <td>136.390000</td>\n",
       "      <td>121.0</td>\n",
       "    </tr>\n",
       "    <tr>\n",
       "      <th>15893</th>\n",
       "      <td>128.780000</td>\n",
       "      <td>105.0</td>\n",
       "    </tr>\n",
       "    <tr>\n",
       "      <th>72</th>\n",
       "      <td>135.463333</td>\n",
       "      <td>39.0</td>\n",
       "    </tr>\n",
       "    <tr>\n",
       "      <th>61680</th>\n",
       "      <td>406.950000</td>\n",
       "      <td>853.0</td>\n",
       "    </tr>\n",
       "    <tr>\n",
       "      <th>59559</th>\n",
       "      <td>90.650000</td>\n",
       "      <td>75.0</td>\n",
       "    </tr>\n",
       "  </tbody>\n",
       "</table>\n",
       "</div>"
      ],
      "text/plain": [
       "       Predictions  Ground Truth\n",
       "92122   163.120000          64.0\n",
       "16138   196.830000          70.0\n",
       "42887    77.285060          80.0\n",
       "1870    245.312866         250.0\n",
       "11793    61.560000          50.0\n",
       "22895   167.450000         100.0\n",
       "11175    86.750000         123.0\n",
       "8914    149.940000         352.0\n",
       "46452   208.890000         120.0\n",
       "63716   119.070000          75.0\n",
       "31265   178.100000         175.0\n",
       "69768   155.615000         185.0\n",
       "96897   101.880000         800.0\n",
       "94985    85.050000          60.0\n",
       "21068    83.280000          40.0\n",
       "27712   136.390000         121.0\n",
       "15893   128.780000         105.0\n",
       "72      135.463333          39.0\n",
       "61680   406.950000         853.0\n",
       "59559    90.650000          75.0"
      ]
     },
     "execution_count": 18,
     "metadata": {},
     "output_type": "execute_result"
    }
   ],
   "source": [
    "test_pred = regr.predict(x_test)\n",
    "\n",
    "res_df = pd.DataFrame({\n",
    "    'Predictions': test_pred,\n",
    "    'Ground Truth': y_test\n",
    "})\n",
    "\n",
    "res_df.head(20)"
   ]
  },
  {
   "cell_type": "code",
   "execution_count": 19,
   "metadata": {},
   "outputs": [],
   "source": [
    "def get_mse(x, y):\n",
    "    return (x-y)**2"
   ]
  },
  {
   "cell_type": "code",
   "execution_count": 20,
   "metadata": {},
   "outputs": [
    {
     "data": {
      "text/plain": [
       "20081.53600235904"
      ]
     },
     "execution_count": 20,
     "metadata": {},
     "output_type": "execute_result"
    }
   ],
   "source": [
    "res_df['mse'] = res_df.apply(lambda row: get_mse(row['Predictions'], row['Ground Truth']), axis=1)\n",
    "\n",
    "np.mean(res_df['mse'])"
   ]
  },
  {
   "cell_type": "code",
   "execution_count": 21,
   "metadata": {},
   "outputs": [],
   "source": [
    "from sklearn.ensemble import AdaBoostRegressor\n",
    "\n",
    "regr = AdaBoostRegressor(random_state=42).fit(x_train, y_train)"
   ]
  },
  {
   "cell_type": "code",
   "execution_count": 22,
   "metadata": {},
   "outputs": [
    {
     "data": {
      "text/plain": [
       "-0.13575014814294928"
      ]
     },
     "execution_count": 22,
     "metadata": {},
     "output_type": "execute_result"
    }
   ],
   "source": [
    "regr.score(x_test, y_test)"
   ]
  },
  {
   "cell_type": "code",
   "execution_count": 23,
   "metadata": {},
   "outputs": [
    {
     "data": {
      "text/html": [
       "<div>\n",
       "<style scoped>\n",
       "    .dataframe tbody tr th:only-of-type {\n",
       "        vertical-align: middle;\n",
       "    }\n",
       "\n",
       "    .dataframe tbody tr th {\n",
       "        vertical-align: top;\n",
       "    }\n",
       "\n",
       "    .dataframe thead th {\n",
       "        text-align: right;\n",
       "    }\n",
       "</style>\n",
       "<table border=\"1\" class=\"dataframe\">\n",
       "  <thead>\n",
       "    <tr style=\"text-align: right;\">\n",
       "      <th></th>\n",
       "      <th>Predictions</th>\n",
       "      <th>Ground Truth</th>\n",
       "    </tr>\n",
       "  </thead>\n",
       "  <tbody>\n",
       "    <tr>\n",
       "      <th>92122</th>\n",
       "      <td>233.400612</td>\n",
       "      <td>64.0</td>\n",
       "    </tr>\n",
       "    <tr>\n",
       "      <th>16138</th>\n",
       "      <td>233.400612</td>\n",
       "      <td>70.0</td>\n",
       "    </tr>\n",
       "    <tr>\n",
       "      <th>42887</th>\n",
       "      <td>94.056407</td>\n",
       "      <td>80.0</td>\n",
       "    </tr>\n",
       "    <tr>\n",
       "      <th>1870</th>\n",
       "      <td>222.746323</td>\n",
       "      <td>250.0</td>\n",
       "    </tr>\n",
       "    <tr>\n",
       "      <th>11793</th>\n",
       "      <td>94.056407</td>\n",
       "      <td>50.0</td>\n",
       "    </tr>\n",
       "    <tr>\n",
       "      <th>22895</th>\n",
       "      <td>233.400612</td>\n",
       "      <td>100.0</td>\n",
       "    </tr>\n",
       "    <tr>\n",
       "      <th>11175</th>\n",
       "      <td>94.056407</td>\n",
       "      <td>123.0</td>\n",
       "    </tr>\n",
       "    <tr>\n",
       "      <th>8914</th>\n",
       "      <td>233.400612</td>\n",
       "      <td>352.0</td>\n",
       "    </tr>\n",
       "    <tr>\n",
       "      <th>46452</th>\n",
       "      <td>233.400612</td>\n",
       "      <td>120.0</td>\n",
       "    </tr>\n",
       "    <tr>\n",
       "      <th>63716</th>\n",
       "      <td>172.183561</td>\n",
       "      <td>75.0</td>\n",
       "    </tr>\n",
       "    <tr>\n",
       "      <th>31265</th>\n",
       "      <td>172.183561</td>\n",
       "      <td>175.0</td>\n",
       "    </tr>\n",
       "    <tr>\n",
       "      <th>69768</th>\n",
       "      <td>233.400612</td>\n",
       "      <td>185.0</td>\n",
       "    </tr>\n",
       "    <tr>\n",
       "      <th>96897</th>\n",
       "      <td>233.400612</td>\n",
       "      <td>800.0</td>\n",
       "    </tr>\n",
       "    <tr>\n",
       "      <th>94985</th>\n",
       "      <td>94.056407</td>\n",
       "      <td>60.0</td>\n",
       "    </tr>\n",
       "    <tr>\n",
       "      <th>21068</th>\n",
       "      <td>94.056407</td>\n",
       "      <td>40.0</td>\n",
       "    </tr>\n",
       "    <tr>\n",
       "      <th>27712</th>\n",
       "      <td>233.400612</td>\n",
       "      <td>121.0</td>\n",
       "    </tr>\n",
       "    <tr>\n",
       "      <th>15893</th>\n",
       "      <td>233.400612</td>\n",
       "      <td>105.0</td>\n",
       "    </tr>\n",
       "    <tr>\n",
       "      <th>72</th>\n",
       "      <td>151.736297</td>\n",
       "      <td>39.0</td>\n",
       "    </tr>\n",
       "    <tr>\n",
       "      <th>61680</th>\n",
       "      <td>222.746323</td>\n",
       "      <td>853.0</td>\n",
       "    </tr>\n",
       "    <tr>\n",
       "      <th>59559</th>\n",
       "      <td>94.056407</td>\n",
       "      <td>75.0</td>\n",
       "    </tr>\n",
       "  </tbody>\n",
       "</table>\n",
       "</div>"
      ],
      "text/plain": [
       "       Predictions  Ground Truth\n",
       "92122   233.400612          64.0\n",
       "16138   233.400612          70.0\n",
       "42887    94.056407          80.0\n",
       "1870    222.746323         250.0\n",
       "11793    94.056407          50.0\n",
       "22895   233.400612         100.0\n",
       "11175    94.056407         123.0\n",
       "8914    233.400612         352.0\n",
       "46452   233.400612         120.0\n",
       "63716   172.183561          75.0\n",
       "31265   172.183561         175.0\n",
       "69768   233.400612         185.0\n",
       "96897   233.400612         800.0\n",
       "94985    94.056407          60.0\n",
       "21068    94.056407          40.0\n",
       "27712   233.400612         121.0\n",
       "15893   233.400612         105.0\n",
       "72      151.736297          39.0\n",
       "61680   222.746323         853.0\n",
       "59559    94.056407          75.0"
      ]
     },
     "execution_count": 23,
     "metadata": {},
     "output_type": "execute_result"
    }
   ],
   "source": [
    "test_pred = regr.predict(x_test)\n",
    "\n",
    "res_df = pd.DataFrame({\n",
    "    'Predictions': test_pred,\n",
    "    'Ground Truth': y_test\n",
    "})\n",
    "\n",
    "res_df.head(20)"
   ]
  },
  {
   "cell_type": "code",
   "execution_count": 24,
   "metadata": {},
   "outputs": [
    {
     "data": {
      "text/plain": [
       "24283.706752183985"
      ]
     },
     "execution_count": 24,
     "metadata": {},
     "output_type": "execute_result"
    }
   ],
   "source": [
    "res_df['mse'] = res_df.apply(lambda row: get_mse(row['Predictions'], row['Ground Truth']), axis=1)\n",
    "\n",
    "np.mean(res_df['mse'])"
   ]
  },
  {
   "cell_type": "code",
   "execution_count": 25,
   "metadata": {},
   "outputs": [
    {
     "name": "stderr",
     "output_type": "stream",
     "text": [
      "/Users/tgbergendahl/miniconda3/envs/NLP/lib/python3.12/site-packages/sklearn/linear_model/_logistic.py:469: ConvergenceWarning: lbfgs failed to converge (status=1):\n",
      "STOP: TOTAL NO. of ITERATIONS REACHED LIMIT.\n",
      "\n",
      "Increase the number of iterations (max_iter) or scale the data as shown in:\n",
      "    https://scikit-learn.org/stable/modules/preprocessing.html\n",
      "Please also refer to the documentation for alternative solver options:\n",
      "    https://scikit-learn.org/stable/modules/linear_model.html#logistic-regression\n",
      "  n_iter_i = _check_optimize_result(\n"
     ]
    },
    {
     "data": {
      "text/plain": [
       "0.04222025391201653"
      ]
     },
     "execution_count": 25,
     "metadata": {},
     "output_type": "execute_result"
    }
   ],
   "source": [
    "from sklearn.linear_model import LogisticRegression\n",
    "\n",
    "regr = LogisticRegression(random_state=42).fit(x_train, y_train)\n",
    "\n",
    "regr.score(x_test, y_test)"
   ]
  },
  {
   "cell_type": "code",
   "execution_count": 26,
   "metadata": {},
   "outputs": [
    {
     "data": {
      "text/html": [
       "<div>\n",
       "<style scoped>\n",
       "    .dataframe tbody tr th:only-of-type {\n",
       "        vertical-align: middle;\n",
       "    }\n",
       "\n",
       "    .dataframe tbody tr th {\n",
       "        vertical-align: top;\n",
       "    }\n",
       "\n",
       "    .dataframe thead th {\n",
       "        text-align: right;\n",
       "    }\n",
       "</style>\n",
       "<table border=\"1\" class=\"dataframe\">\n",
       "  <thead>\n",
       "    <tr style=\"text-align: right;\">\n",
       "      <th></th>\n",
       "      <th>Predictions</th>\n",
       "      <th>Ground Truth</th>\n",
       "    </tr>\n",
       "  </thead>\n",
       "  <tbody>\n",
       "    <tr>\n",
       "      <th>92122</th>\n",
       "      <td>50.0</td>\n",
       "      <td>64.0</td>\n",
       "    </tr>\n",
       "    <tr>\n",
       "      <th>16138</th>\n",
       "      <td>150.0</td>\n",
       "      <td>70.0</td>\n",
       "    </tr>\n",
       "    <tr>\n",
       "      <th>42887</th>\n",
       "      <td>70.0</td>\n",
       "      <td>80.0</td>\n",
       "    </tr>\n",
       "    <tr>\n",
       "      <th>1870</th>\n",
       "      <td>50.0</td>\n",
       "      <td>250.0</td>\n",
       "    </tr>\n",
       "    <tr>\n",
       "      <th>11793</th>\n",
       "      <td>60.0</td>\n",
       "      <td>50.0</td>\n",
       "    </tr>\n",
       "    <tr>\n",
       "      <th>22895</th>\n",
       "      <td>60.0</td>\n",
       "      <td>100.0</td>\n",
       "    </tr>\n",
       "    <tr>\n",
       "      <th>11175</th>\n",
       "      <td>35.0</td>\n",
       "      <td>123.0</td>\n",
       "    </tr>\n",
       "    <tr>\n",
       "      <th>8914</th>\n",
       "      <td>100.0</td>\n",
       "      <td>352.0</td>\n",
       "    </tr>\n",
       "    <tr>\n",
       "      <th>46452</th>\n",
       "      <td>250.0</td>\n",
       "      <td>120.0</td>\n",
       "    </tr>\n",
       "    <tr>\n",
       "      <th>63716</th>\n",
       "      <td>100.0</td>\n",
       "      <td>75.0</td>\n",
       "    </tr>\n",
       "    <tr>\n",
       "      <th>31265</th>\n",
       "      <td>100.0</td>\n",
       "      <td>175.0</td>\n",
       "    </tr>\n",
       "    <tr>\n",
       "      <th>69768</th>\n",
       "      <td>150.0</td>\n",
       "      <td>185.0</td>\n",
       "    </tr>\n",
       "    <tr>\n",
       "      <th>96897</th>\n",
       "      <td>100.0</td>\n",
       "      <td>800.0</td>\n",
       "    </tr>\n",
       "    <tr>\n",
       "      <th>94985</th>\n",
       "      <td>70.0</td>\n",
       "      <td>60.0</td>\n",
       "    </tr>\n",
       "    <tr>\n",
       "      <th>21068</th>\n",
       "      <td>40.0</td>\n",
       "      <td>40.0</td>\n",
       "    </tr>\n",
       "    <tr>\n",
       "      <th>27712</th>\n",
       "      <td>150.0</td>\n",
       "      <td>121.0</td>\n",
       "    </tr>\n",
       "    <tr>\n",
       "      <th>15893</th>\n",
       "      <td>100.0</td>\n",
       "      <td>105.0</td>\n",
       "    </tr>\n",
       "    <tr>\n",
       "      <th>72</th>\n",
       "      <td>50.0</td>\n",
       "      <td>39.0</td>\n",
       "    </tr>\n",
       "    <tr>\n",
       "      <th>61680</th>\n",
       "      <td>100.0</td>\n",
       "      <td>853.0</td>\n",
       "    </tr>\n",
       "    <tr>\n",
       "      <th>59559</th>\n",
       "      <td>100.0</td>\n",
       "      <td>75.0</td>\n",
       "    </tr>\n",
       "  </tbody>\n",
       "</table>\n",
       "</div>"
      ],
      "text/plain": [
       "       Predictions  Ground Truth\n",
       "92122         50.0          64.0\n",
       "16138        150.0          70.0\n",
       "42887         70.0          80.0\n",
       "1870          50.0         250.0\n",
       "11793         60.0          50.0\n",
       "22895         60.0         100.0\n",
       "11175         35.0         123.0\n",
       "8914         100.0         352.0\n",
       "46452        250.0         120.0\n",
       "63716        100.0          75.0\n",
       "31265        100.0         175.0\n",
       "69768        150.0         185.0\n",
       "96897        100.0         800.0\n",
       "94985         70.0          60.0\n",
       "21068         40.0          40.0\n",
       "27712        150.0         121.0\n",
       "15893        100.0         105.0\n",
       "72            50.0          39.0\n",
       "61680        100.0         853.0\n",
       "59559        100.0          75.0"
      ]
     },
     "execution_count": 26,
     "metadata": {},
     "output_type": "execute_result"
    }
   ],
   "source": [
    "test_pred = regr.predict(x_test)\n",
    "\n",
    "res_df = pd.DataFrame({\n",
    "    'Predictions': test_pred,\n",
    "    'Ground Truth': y_test\n",
    "})\n",
    "\n",
    "res_df.head(20)"
   ]
  },
  {
   "cell_type": "code",
   "execution_count": 27,
   "metadata": {},
   "outputs": [
    {
     "data": {
      "text/plain": [
       "23093.63908220507"
      ]
     },
     "execution_count": 27,
     "metadata": {},
     "output_type": "execute_result"
    }
   ],
   "source": [
    "res_df['mse'] = res_df.apply(lambda row: get_mse(row['Predictions'], row['Ground Truth']), axis=1)\n",
    "\n",
    "np.mean(res_df['mse'])"
   ]
  },
  {
   "cell_type": "code",
   "execution_count": null,
   "metadata": {},
   "outputs": [],
   "source": []
  }
 ],
 "metadata": {
  "kernelspec": {
   "display_name": "NLP",
   "language": "python",
   "name": "python3"
  },
  "language_info": {
   "codemirror_mode": {
    "name": "ipython",
    "version": 3
   },
   "file_extension": ".py",
   "mimetype": "text/x-python",
   "name": "python",
   "nbconvert_exporter": "python",
   "pygments_lexer": "ipython3",
   "version": "3.12.7"
  }
 },
 "nbformat": 4,
 "nbformat_minor": 2
}
